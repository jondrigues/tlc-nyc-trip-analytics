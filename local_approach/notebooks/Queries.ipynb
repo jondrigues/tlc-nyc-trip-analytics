{
 "cells": [
  {
   "cell_type": "code",
   "execution_count": null,
   "id": "e0a26318-42be-4831-9080-d410a9bb6981",
   "metadata": {},
   "outputs": [],
   "source": [
    "SELECT\n",
    "DATE_TRUNC('month', pickup_datetime) as month,\n",
    "AVG(trip_distance) as avg_trip_distance,\n",
    "STDDEV(trip_distance) as stddev_trip_distance\n",
    "FROM \"nyc-trip-data_refined\".\"trip_data\"\n",
    "WHERE\n",
    "{{source}}\n",
    "AND trip_distance <= 30\n",
    "GROUP BY 1\n",
    "ORDER BY 1 ASC"
   ]
  },
  {
   "cell_type": "code",
   "execution_count": null,
   "id": "ea240903-39c5-4c4d-bdb2-7f1b91bb0fa7",
   "metadata": {},
   "outputs": [],
   "source": [
    "SELECT\n",
    "source,\n",
    "DATE_TRUNC('month', pickup_datetime) as month,\n",
    "COUNT(*) as total_trips\n",
    "FROM \"nyc-trip-data_refined\".\"trip_data\"\n",
    "WHERE\n",
    "{{source}}\n",
    "GROUP BY 1,2\n",
    "ORDER BY 2,1 ASC"
   ]
  },
  {
   "cell_type": "code",
   "execution_count": null,
   "id": "94e0a98e-2529-423a-9c76-c00ee74efb96",
   "metadata": {},
   "outputs": [],
   "source": [
    "SELECT\n",
    "    source,\n",
    "    DATE_TRUNC('month', pickup_datetime) as month,\n",
    "    AVG(total_amount) as avg_total_amount\n",
    "FROM \"nyc-trip-data_refined\".\"trip_data\"\n",
    "WHERE\n",
    "{{source}}\n",
    "GROUP BY 1,2\n",
    "ORDER BY 2,1 ASC"
   ]
  },
  {
   "cell_type": "code",
   "execution_count": null,
   "id": "b6100653-6094-4c40-b07b-48e4ea9f21aa",
   "metadata": {},
   "outputs": [],
   "source": [
    "SELECT\n",
    "CASE\n",
    "WHEN ROUND(payment_type, 0) = 1 THEN 'CREDIT-CARD'\n",
    "WHEN ROUND(payment_type, 0)  = 2 THEN 'CASH'\n",
    "WHEN ROUND(payment_type, 0)  = 3 THEN 'NO-CHARGE'\n",
    "WHEN ROUND(payment_type, 0)  = 4 THEN 'DISPUTE'\n",
    "WHEN ROUND(payment_type, 0)  = 5 THEN 'UNKNOWN'\n",
    "WHEN ROUND(payment_type, 0)  = 6 THEN 'VOIDED TRIP'\n",
    "ELSE 'ERROR'\n",
    "END as payment_type,\n",
    "DATE_TRUNC('month', pickup_datetime) as month,\n",
    "COUNT(*) as total_usage\n",
    "FROM \"nyc-trip-data_refined\".\"trip_data\"\n",
    "WHERE\n",
    "ROUND(payment_type, 0) = 1\n",
    "OR ROUND(payment_type, 0) = 2\n",
    "AND {{source}}\n",
    "GROUP BY 1,2\n",
    "ORDER BY 2,1 ASC"
   ]
  },
  {
   "cell_type": "code",
   "execution_count": null,
   "id": "3450d10d-71a9-419e-9214-45572870a205",
   "metadata": {},
   "outputs": [],
   "source": [
    "SELECT\n",
    "DATE_TRUNC('month', pickup_datetime) as month,\n",
    "CASE\n",
    "WHEN EXTRACT(hour from pickup_datetime) >= 6 AND EXTRACT(hour from pickup_datetime) <= 12 THEN 'MORNING'\n",
    "WHEN EXTRACT(hour from pickup_datetime) >= 13 AND EXTRACT(hour from pickup_datetime) <= 18 THEN 'AFTERNOON'\n",
    "WHEN EXTRACT(hour from pickup_datetime) >= 19 AND EXTRACT(hour from pickup_datetime) <= 23 THEN 'NIGHTIME'\n",
    "WHEN EXTRACT(hour from pickup_datetime) >= 0 AND EXTRACT(hour from pickup_datetime) <= 5 THEN 'DAWN'\n",
    "ELSE 'ERROR' END as hour_of_the_day,\n",
    "COUNT(*) as total_trips\n",
    "FROM \"nyc-trip-data_refined\".\"refined\"\n",
    "GROUP BY 1,2\n",
    "ORDER BY 1,2 ASC"
   ]
  },
  {
   "cell_type": "code",
   "execution_count": null,
   "id": "c3493353-a951-4ab7-ac92-ffb44f33b319",
   "metadata": {},
   "outputs": [],
   "source": [
    "SELECT\n",
    "ROUND(CAST(do_latitude AS double), 8) as lat,\n",
    "ROUND(CAST(do_longitude AS double), 8) as lon,\n",
    "COUNT(*) as total\n",
    "FROM \"nyc-trip-data_refined\".\"trip_data\"\n",
    "WHERE\n",
    "pu_longitude is not null\n",
    "AND pu_latitude is not null\n",
    "AND do_longitude is not null\n",
    "AND do_latitude is not null\n",
    "AND {{source}}\n",
    "GROUP BY 1,2\n",
    "ORDER BY 3"
   ]
  },
  {
   "cell_type": "code",
   "execution_count": null,
   "id": "f4a37f22-0843-4e40-92fa-a0ffb46698db",
   "metadata": {},
   "outputs": [],
   "source": []
  },
  {
   "cell_type": "code",
   "execution_count": null,
   "id": "9431f576-59d3-47d9-9116-0d010a1445e7",
   "metadata": {},
   "outputs": [],
   "source": []
  }
 ],
 "metadata": {
  "kernelspec": {
   "display_name": "Python 3 (ipykernel)",
   "language": "python",
   "name": "python3"
  },
  "language_info": {
   "codemirror_mode": {
    "name": "ipython",
    "version": 3
   },
   "file_extension": ".py",
   "mimetype": "text/x-python",
   "name": "python",
   "nbconvert_exporter": "python",
   "pygments_lexer": "ipython3",
   "version": "3.11.3"
  }
 },
 "nbformat": 4,
 "nbformat_minor": 5
}