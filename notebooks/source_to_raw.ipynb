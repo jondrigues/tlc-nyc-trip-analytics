{
 "cells": [
  {
   "cell_type": "code",
   "execution_count": 3,
   "id": "503fff14-58aa-4c4c-b1ad-8019216161ab",
   "metadata": {
    "tags": []
   },
   "outputs": [],
   "source": [
    "import requests\n",
    "import shutil\n",
    "import os\n",
    "import pyarrow.parquet as pq"
   ]
  },
  {
   "cell_type": "code",
   "execution_count": 7,
   "id": "c4452ccf-51af-4c2d-bcc7-b362e4b7977d",
   "metadata": {},
   "outputs": [],
   "source": [
    "def download_tripdata(table_name, year, month ):\n",
    "    r=requests.get(f\"https://d37ci6vzurychx.cloudfront.net/trip-data/{table_name}_tripdata_{year}-{month}.parquet\",\n",
    "                   stream=True)\n",
    "\n",
    "    create_dir(f\"data/raw/{table_name}/{year}/{month}\")\n",
    "\n",
    "    with open(f'data/raw/{table_name}/{year}/{month}/'\n",
    "              f'{table_name}_{year}-{month}.parquet','wb') as out_file:\n",
    "        shutil.copyfileobj(r.raw, out_file)\n",
    "    return r\n",
    "\n",
    "def create_dir(dir):\n",
    "    if not os.path.exists(dir):\n",
    "        os.makedirs(dir)\n",
    "\n",
    "demo_dowload_list = [\n",
    "    #[\"yellow\", \"2018\", [x for x in range(1,13)]],\n",
    "    #[\"yellow\", \"2019\", [x for x in range(1,13)]],\n",
    "    #[\"yellow\", \"2020\", [x for x in range(1,13)]],\n",
    "    #[\"yellow\", \"2021\", [x for x in range(1,13)]],\n",
    "    #[\"yellow\", \"2022\", [x for x in range(1,13)]],\n",
    "    #[\"green\", \"2018\", [x for x in range(1,13)]],\n",
    "    #[\"green\", \"2019\", [x for x in range(1,13)]],\n",
    "    #[\"green\", \"2020\", [x for x in range(1,13)]],\n",
    "    #[\"green\", \"2021\", [x for x in range(1,13)]],\n",
    "    [\"green\", \"2022\", [x for x in range(1,13)]]\n",
    " ]\n",
    "\n",
    "for demo_download in demo_dowload_list:\n",
    "    for month in demo_download[2]:\n",
    "        download_tripdata(\n",
    "            table_name=demo_download[0],\n",
    "            year=demo_download[1],\n",
    "            month=str(month) if month >= 10 else f\"0{month}\"\n",
    "        )"
   ]
  },
  {
   "cell_type": "code",
   "execution_count": null,
   "id": "2178bad5-6882-44b5-88ed-359075c4e3c7",
   "metadata": {},
   "outputs": [],
   "source": []
  }
 ],
 "metadata": {
  "kernelspec": {
   "display_name": "Python 3 (ipykernel)",
   "language": "python",
   "name": "python3"
  },
  "language_info": {
   "codemirror_mode": {
    "name": "ipython",
    "version": 3
   },
   "file_extension": ".py",
   "mimetype": "text/x-python",
   "name": "python",
   "nbconvert_exporter": "python",
   "pygments_lexer": "ipython3",
   "version": "3.11.3"
  }
 },
 "nbformat": 4,
 "nbformat_minor": 5
}
