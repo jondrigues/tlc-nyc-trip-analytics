{
 "cells": [
  {
   "cell_type": "code",
   "execution_count": 1,
   "id": "d6648e77-60ab-445d-9b02-65b1aed77edf",
   "metadata": {
    "tags": []
   },
   "outputs": [],
   "source": [
    "from pyspark.sql import SparkSession\n",
    "from soda.scan import Scan"
   ]
  },
  {
   "cell_type": "markdown",
   "id": "082fb661-29ed-4000-956c-316e8872485a",
   "metadata": {},
   "source": [
    "## Carregando DataFrames"
   ]
  },
  {
   "cell_type": "code",
   "execution_count": 2,
   "id": "9135aa6d-0176-48fb-b141-cb6fa029cb7c",
   "metadata": {
    "tags": []
   },
   "outputs": [],
   "source": [
    "spark = SparkSession.builder.getOrCreate()"
   ]
  },
  {
   "cell_type": "code",
   "execution_count": 123,
   "id": "c42fdabf-04f4-4890-8229-645e5154dcd0",
   "metadata": {
    "tags": []
   },
   "outputs": [],
   "source": [
    "yellow_df = spark.read.option('inferSchema',True).parquet('data/raw/yellow/*/*')\n",
    "yellow_df.createOrReplaceTempView(\"yellow_df\")\n",
    "\n",
    "fhv_df = spark.read.option('inferSchema',True).parquet('data/raw/fhv/*/*')\n",
    "fhv_df.createOrReplaceTempView(\"fhv_df\")\n",
    "\n",
    "green_df = spark.read.option('inferSchema',True).parquet('data/raw/green/*/*')\n",
    "green_df.createOrReplaceTempView(\"green_df\")"
   ]
  },
  {
   "cell_type": "markdown",
   "id": "b6b49b39-abeb-4412-b375-22c95f904ad1",
   "metadata": {
    "tags": []
   },
   "source": [
    "## Análise dos DataSets"
   ]
  },
  {
   "cell_type": "code",
   "execution_count": 60,
   "id": "04c6a7de-fc2b-448c-b0cf-c740a670e72a",
   "metadata": {
    "tags": []
   },
   "outputs": [
    {
     "name": "stdout",
     "output_type": "stream",
     "text": [
      "root\n",
      " |-- VendorID: long (nullable = true)\n",
      " |-- tpep_pickup_datetime: timestamp_ntz (nullable = true)\n",
      " |-- tpep_dropoff_datetime: timestamp_ntz (nullable = true)\n",
      " |-- passenger_count: double (nullable = true)\n",
      " |-- trip_distance: double (nullable = true)\n",
      " |-- RatecodeID: double (nullable = true)\n",
      " |-- store_and_fwd_flag: string (nullable = true)\n",
      " |-- PULocationID: long (nullable = true)\n",
      " |-- DOLocationID: long (nullable = true)\n",
      " |-- payment_type: long (nullable = true)\n",
      " |-- fare_amount: double (nullable = true)\n",
      " |-- extra: double (nullable = true)\n",
      " |-- mta_tax: double (nullable = true)\n",
      " |-- tip_amount: double (nullable = true)\n",
      " |-- tolls_amount: double (nullable = true)\n",
      " |-- improvement_surcharge: double (nullable = true)\n",
      " |-- total_amount: double (nullable = true)\n",
      " |-- congestion_surcharge: double (nullable = true)\n",
      " |-- airport_fee: double (nullable = true)\n",
      "\n"
     ]
    }
   ],
   "source": [
    "yellow_df.printSchema()"
   ]
  },
  {
   "cell_type": "code",
   "execution_count": 61,
   "id": "d4a5f061-5728-4e5e-b0d7-f65f0d80f330",
   "metadata": {
    "tags": []
   },
   "outputs": [
    {
     "name": "stdout",
     "output_type": "stream",
     "text": [
      "+---+---------+-----+----+-----+---+-----+\n",
      "|min|      max|p_025|p_05|p_075|p_9| p_99|\n",
      "+---+---------+-----+----+-----+---+-----+\n",
      "|0.0|258928.15| 1.07| 1.8| 3.48|9.0|20.21|\n",
      "+---+---------+-----+----+-----+---+-----+\n",
      "\n"
     ]
    }
   ],
   "source": [
    "spark.sql(\"SELECT MIN(trip_distance) as min, MAX(trip_distance) as max, PERCENTILE (trip_distance, 0.25) p_025, PERCENTILE (trip_distance, 0.5) p_05, PERCENTILE (trip_distance, 0.75) p_075, PERCENTILE (trip_distance, 0.9) as p_9, PERCENTILE (trip_distance, 0.99) as p_99  FROM yellow_df\").show()"
   ]
  },
  {
   "cell_type": "markdown",
   "id": "88eb2b56-0141-4e0f-826c-9b83700ecca1",
   "metadata": {
    "tags": []
   },
   "source": [
    "Observamos que os valores de trip_distance (distancia de viagem medida em milhas) possuí valores outliers/incorretos em sua distribuição (0 e 258928.15). Através da análise de percentis, verificamos que até 99% do Dataset a distância da viagem chega até 20.21 milhas. Portanto, definimos que os valores mínimos de uma viagem deve ser maior que 0 e menor (ou igual) a 30"
   ]
  },
  {
   "cell_type": "code",
   "execution_count": 82,
   "id": "f1a9e0cd-808b-41d9-9fb8-48b493d05a8e",
   "metadata": {
    "tags": []
   },
   "outputs": [
    {
     "name": "stdout",
     "output_type": "stream",
     "text": [
      "+----------------------+\n",
      "|Affiliated_base_number|\n",
      "+----------------------+\n",
      "|       B00625         |\n",
      "|                B02629|\n",
      "|                B01081|\n",
      "|                B03148|\n",
      "|                B02803|\n",
      "|                B01616|\n",
      "|                B00411|\n",
      "|                B02932|\n",
      "|                B00789|\n",
      "|                B01553|\n",
      "|                B02303|\n",
      "|                B02876|\n",
      "|                B02942|\n",
      "|                BO3404|\n",
      "|                B01341|\n",
      "|                B03445|\n",
      "|                B02535|\n",
      "|                B03323|\n",
      "|                B00856|\n",
      "|                B02788|\n",
      "+----------------------+\n",
      "only showing top 20 rows\n",
      "\n"
     ]
    }
   ],
   "source": [
    "x = spark.sql(\"SELECT DISTINCT Affiliated_base_number FROM fhv_df\").show()"
   ]
  },
  {
   "cell_type": "code",
   "execution_count": 62,
   "id": "364ad4f9-9d6d-4eb3-9703-bc28dd8f9466",
   "metadata": {
    "tags": []
   },
   "outputs": [
    {
     "name": "stdout",
     "output_type": "stream",
     "text": [
      "root\n",
      " |-- dispatching_base_num: string (nullable = true)\n",
      " |-- pickup_datetime: timestamp_ntz (nullable = true)\n",
      " |-- dropOff_datetime: timestamp_ntz (nullable = true)\n",
      " |-- PUlocationID: double (nullable = true)\n",
      " |-- DOlocationID: double (nullable = true)\n",
      " |-- SR_Flag: integer (nullable = true)\n",
      " |-- Affiliated_base_number: string (nullable = true)\n",
      "\n"
     ]
    }
   ],
   "source": [
    "fhv_df.printSchema()"
   ]
  },
  {
   "cell_type": "code",
   "execution_count": 64,
   "id": "29d8d970-4ae4-4f0b-9aeb-a92a6510aa13",
   "metadata": {
    "tags": []
   },
   "outputs": [
    {
     "name": "stdout",
     "output_type": "stream",
     "text": [
      "root\n",
      " |-- VendorID: long (nullable = true)\n",
      " |-- lpep_pickup_datetime: timestamp_ntz (nullable = true)\n",
      " |-- lpep_dropoff_datetime: timestamp_ntz (nullable = true)\n",
      " |-- store_and_fwd_flag: string (nullable = true)\n",
      " |-- RatecodeID: double (nullable = true)\n",
      " |-- PULocationID: long (nullable = true)\n",
      " |-- DOLocationID: long (nullable = true)\n",
      " |-- passenger_count: double (nullable = true)\n",
      " |-- trip_distance: double (nullable = true)\n",
      " |-- fare_amount: double (nullable = true)\n",
      " |-- extra: double (nullable = true)\n",
      " |-- mta_tax: double (nullable = true)\n",
      " |-- tip_amount: double (nullable = true)\n",
      " |-- tolls_amount: double (nullable = true)\n",
      " |-- ehail_fee: integer (nullable = true)\n",
      " |-- improvement_surcharge: double (nullable = true)\n",
      " |-- total_amount: double (nullable = true)\n",
      " |-- payment_type: double (nullable = true)\n",
      " |-- trip_type: double (nullable = true)\n",
      " |-- congestion_surcharge: double (nullable = true)\n",
      "\n"
     ]
    }
   ],
   "source": [
    "green_df.printSchema()"
   ]
  },
  {
   "cell_type": "markdown",
   "id": "89a1a152-25b7-45e2-8013-33373cbea197",
   "metadata": {},
   "source": [
    "## Execução de validação de dados com SODA"
   ]
  },
  {
   "cell_type": "code",
   "execution_count": 140,
   "id": "1e5c2959-595e-4164-9275-92f9d08c8488",
   "metadata": {
    "tags": []
   },
   "outputs": [],
   "source": [
    "checks  =\"\"\"\n",
    "checks for yellow_df:\n",
    "  - row_count > 0\n",
    "  - max(trip_distance) <= 30\n",
    "  - min(trip_distance) > 0\n",
    "  - min(passenger_count) > 0\n",
    "  - max(passenger_count) < 5\n",
    "  - no_datetime_less_than_2018 = 0:\n",
    "      no_datetime_less_than_2018 query: SELECT COUNT(*) FROM yellow_df WHERE tpep_pickup_datetime < '01-01-2018' or tpep_dropoff_datetime < '01-01-2018'\n",
    "  - pickup_lower_than_dropoff = 0:\n",
    "      pickup_lower_than_dropoff query: SELECT COUNT(*) FROM yellow_df WHERE tpep_pickup_datetime > tpep_dropoff_datetime\n",
    "  - duplicate_lines_lower_than = 0:\n",
    "      duplicate_lines_lower_than query: SELECT COUNT(foo.*) FROM (SELECT VendorID ,tpep_pickup_datetime ,tpep_dropoff_datetime ,passenger_count,trip_distance,RatecodeID,store_and_fwd_flag ,PULocationID ,DOLocationID ,payment_type ,fare_amount,extra,mta_tax,tip_amount,tolls_amount,improvement_surcharge,total_amount,congestion_surcharge,airport_fee, COUNT(*) FROM yellow_df GROUP BY 1,2,3,4,5,6,7,8,9,10,11,12,13,14,15,16,17,18,19 HAVING COUNT(*) > 1) as foo\n",
    "  - schema:\n",
    "      name: Confirm that required columns are present\n",
    "      fail:\n",
    "        when required column missing: [VendorID ,tpep_pickup_datetime ,tpep_dropoff_datetime ,passenger_count,trip_distance,RatecodeID,store_and_fwd_flag ,PULocationID ,DOLocationID ,payment_type ,fare_amount,extra,mta_tax,tip_amount,tolls_amount,improvement_surcharge,total_amount,congestion_surcharge,airport_fee]\n",
    "        when wrong column type:\n",
    "          VendorID: bigint\n",
    "          tpep_pickup_datetime: timestamp_ntz\n",
    "          tpep_dropoff_datetime: timestamp_ntz\n",
    "          passenger_count: double\n",
    "          trip_distance: double\n",
    "          RatecodeID: double\n",
    "          store_and_fwd_flag: string\n",
    "          PULocationID: bigint\n",
    "          DOLocationID: bigint\n",
    "          payment_type: bigint\n",
    "          fare_amount: double\n",
    "          extra: double\n",
    "          mta_tax: double\n",
    "          tip_amount: double\n",
    "          tolls_amount: double\n",
    "          improvement_surcharge: double\n",
    "          total_amount: double\n",
    "          congestion_surcharge: double\n",
    "          airport_fee: double\n",
    "\n",
    "\n",
    "checks for fhv_df:\n",
    "  - row_count > 0\n",
    "  - invalid_percent(dispatching_base_num) = 0%:\n",
    "      valid regex: ([B][0-9]{5})\n",
    "  - invalid_percent(Affiliated_base_number) = 0%:\n",
    "      valid regex: ([B][0-9]{5})\n",
    "  - no_datetime_less_than_2018 = 0:\n",
    "      no_datetime_less_than_2018 query: SELECT COUNT(*) FROM fhv_df WHERE pickup_datetime < '01-01-2018' or dropOff_datetime < '01-01-2018'\n",
    "  - pickup_lower_than_dropoff = 0:\n",
    "      pickup_lower_than_dropoff query: SELECT COUNT(*) FROM fhv_df WHERE pickup_datetime > dropOff_datetime\n",
    "  - duplicate_lines_lower_than = 0:\n",
    "      duplicate_lines_lower_than query: SELECT COUNT(foo.*) FROM (SELECT dispatching_base_num, pickup_datetime, dropOff_datetime, PUlocationID, DOlocationID, SR_Flag, Affiliated_base_number, COUNT(*) FROM fhv_df GROUP BY 1,2,3,4,5,6,7 HAVING COUNT(*) > 1) as foo\n",
    "  - schema:\n",
    "      name: Confirm that required columns are present\n",
    "      fail:\n",
    "        when required column missing: [dispatching_base_num, pickup_datetime, dropOff_datetime, PUlocationID, DOlocationID, SR_Flag, Affiliated_base_number]\n",
    "        when wrong column type:\n",
    "            dispatching_base_num: string\n",
    "            pickup_datetime: timestamp_ntz\n",
    "            dropOff_datetime: timestamp_ntz\n",
    "            PUlocationID: double\n",
    "            DOlocationID: double\n",
    "            SR_Flag: int\n",
    "            Affiliated_base_number: string\n",
    "\n",
    "\n",
    "checks for green_df:\n",
    "  - row_count > 0\n",
    "  - min(passenger_count) > 0\n",
    "  - max(passenger_count) < 5\n",
    "  - no_datetime_less_than_2018 = 0:\n",
    "      no_datetime_less_than_2018 query: SELECT COUNT(*) FROM green_df WHERE lpep_pickup_datetime < '01-01-2018' or lpep_dropoff_datetime < '01-01-2018'\n",
    "  - pickup_lower_than_dropoff = 0:\n",
    "      pickup_lower_than_dropoff query: SELECT COUNT(*) FROM green_df WHERE lpep_pickup_datetime > lpep_dropoff_datetime \n",
    "  - duplicate_lines_lower_than = 0:\n",
    "      duplicate_lines_lower_than query: SELECT COUNT(foo.*) FROM (SELECT VendorID, lpep_pickup_datetime, lpep_dropoff_datetime, store_and_fwd_flag, RatecodeID, PULocationID, DOLocationID, passenger_count, trip_distance, fare_amount, extra, mta_tax, tip_amount, tolls_amount, ehail_fee, improvement_surcharge, total_amount, payment_type, trip_type, congestion_surcharge, COUNT(*) FROM green_df GROUP BY 1,2,3,4,5,6,7,8,9,10,11,12,13,14,15,16,17,18,19,20 HAVING COUNT(*) > 1) as foo\n",
    "  - schema:\n",
    "      name: Confirm that required columns are present\n",
    "      fail:\n",
    "        when required column missing: [VendorID, lpep_pickup_datetime, lpep_dropoff_datetime, store_and_fwd_flag, RatecodeID, PULocationID, DOLocationID, passenger_count, trip_distance, fare_amount, extra, mta_tax, tip_amount, tolls_amount, ehail_fee, improvement_surcharge, total_amount, payment_type, trip_type, congestion_surcharge]\n",
    "        when wrong column type:\n",
    "            VendorID: bigint\n",
    "            lpep_pickup_datetime: timestamp_ntz\n",
    "            lpep_dropoff_datetime: timestamp_ntz\n",
    "            store_and_fwd_flag: string\n",
    "            RatecodeID: double\n",
    "            PULocationID: bigint\n",
    "            DOLocationID: bigint\n",
    "            passenger_count: double\n",
    "            trip_distance: double\n",
    "            fare_amount: double\n",
    "            extra: double\n",
    "            mta_tax: double\n",
    "            tip_amount: double\n",
    "            tolls_amount: double\n",
    "            ehail_fee: int\n",
    "            improvement_surcharge: double\n",
    "            total_amount: double\n",
    "            payment_type: double\n",
    "            trip_type: double\n",
    "            congestion_surcharge: double\n",
    "\"\"\""
   ]
  },
  {
   "cell_type": "code",
   "execution_count": 141,
   "id": "9837ec37-ea3e-474e-86b5-72b0dd4c3ffe",
   "metadata": {
    "tags": []
   },
   "outputs": [
    {
     "name": "stdout",
     "output_type": "stream",
     "text": [
      "INFO   | Soda Core 3.0.34\n",
      "INFO   | Using DefaultSampler\n",
      "INFO   | Scan summary:\n",
      "INFO   | 15/23 checks PASSED: \n",
      "INFO   |     yellow_df in spark_df\n",
      "INFO   |       row_count > 0 [PASSED]\n",
      "INFO   |       no_datetime_less_than_2018 = 0 [PASSED]\n",
      "INFO   |       duplicate_lines_lower_than = 0 [PASSED]\n",
      "INFO   |       Confirm that required columns are present [PASSED]\n",
      "INFO   |     fhv_df in spark_df\n",
      "INFO   |       row_count > 0 [PASSED]\n",
      "INFO   |       no_datetime_less_than_2018 = 0 [PASSED]\n",
      "INFO   |       pickup_lower_than_dropoff = 0 [PASSED]\n",
      "INFO   |       duplicate_lines_lower_than = 0 [PASSED]\n",
      "INFO   |       Confirm that required columns are present [PASSED]\n",
      "INFO   |       invalid_percent(dispatching_base_num) = 0% [PASSED]\n",
      "INFO   |     green_df in spark_df\n",
      "INFO   |       row_count > 0 [PASSED]\n",
      "INFO   |       no_datetime_less_than_2018 = 0 [PASSED]\n",
      "INFO   |       pickup_lower_than_dropoff = 0 [PASSED]\n",
      "INFO   |       duplicate_lines_lower_than = 0 [PASSED]\n",
      "INFO   |       Confirm that required columns are present [PASSED]\n",
      "INFO   | 8/23 checks FAILED: \n",
      "INFO   |     yellow_df in spark_df\n",
      "INFO   |       pickup_lower_than_dropoff = 0 [FAILED]\n",
      "INFO   |         check_value: 107.0\n",
      "INFO   |       max(trip_distance) <= 30 [FAILED]\n",
      "INFO   |         check_value: 258928.15\n",
      "INFO   |       min(trip_distance) > 0 [FAILED]\n",
      "INFO   |         check_value: 0.0\n",
      "INFO   |       min(passenger_count) > 0 [FAILED]\n",
      "INFO   |         check_value: 0.0\n",
      "INFO   |       max(passenger_count) < 5 [FAILED]\n",
      "INFO   |         check_value: 9.0\n",
      "INFO   |     fhv_df in spark_df\n",
      "INFO   |       invalid_percent(Affiliated_base_number) = 0% [FAILED]\n",
      "INFO   |         check_value: 4.56\n",
      "INFO   |         row_count: 2399763\n",
      "INFO   |         invalid_count: 109353\n",
      "INFO   |     green_df in spark_df\n",
      "INFO   |       min(passenger_count) > 0 [FAILED]\n",
      "INFO   |         check_value: 0.0\n",
      "INFO   |       max(passenger_count) < 5 [FAILED]\n",
      "INFO   |         check_value: 9.0\n",
      "INFO   | Oops! 8 failures. 0 warnings. 0 errors. 15 pass.\n"
     ]
    }
   ],
   "source": [
    "scan = Scan()\n",
    "\n",
    "scan.set_scan_definition_name(\"Datasets validation\")\n",
    "scan.set_data_source_name(\"spark_df\")\n",
    "scan.add_spark_session(spark)\n",
    "\n",
    "scan.add_sodacl_yaml_str(checks)\n",
    "\n",
    "scan.execute()\n",
    "print(scan.get_logs_text())"
   ]
  },
  {
   "cell_type": "code",
   "execution_count": null,
   "id": "0b406e1a-c97f-46a4-bc91-fb62ff8dcf20",
   "metadata": {
    "tags": []
   },
   "outputs": [],
   "source": []
  },
  {
   "cell_type": "code",
   "execution_count": null,
   "id": "8e55da86-9bde-4368-8b2a-78b2b90c6e9d",
   "metadata": {},
   "outputs": [],
   "source": []
  },
  {
   "cell_type": "code",
   "execution_count": null,
   "id": "655a403b-b546-42bd-8439-bb694d6b24b6",
   "metadata": {},
   "outputs": [],
   "source": []
  }
 ],
 "metadata": {
  "kernelspec": {
   "display_name": "Python 3 (ipykernel)",
   "language": "python",
   "name": "python3"
  },
  "language_info": {
   "codemirror_mode": {
    "name": "ipython",
    "version": 3
   },
   "file_extension": ".py",
   "mimetype": "text/x-python",
   "name": "python",
   "nbconvert_exporter": "python",
   "pygments_lexer": "ipython3",
   "version": "3.10.11"
  }
 },
 "nbformat": 4,
 "nbformat_minor": 5
}
