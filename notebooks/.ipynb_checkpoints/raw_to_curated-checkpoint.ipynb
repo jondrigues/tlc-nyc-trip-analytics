{
 "cells": [
  {
   "cell_type": "code",
   "execution_count": 19,
   "id": "503fff14-58aa-4c4c-b1ad-8019216161ab",
   "metadata": {
    "tags": []
   },
   "outputs": [],
   "source": [
    "from pyspark.sql import SparkSession\n",
    "from pyspark.sql.functions import lit"
   ]
  },
  {
   "cell_type": "code",
   "execution_count": 6,
   "id": "2db73215-b4a4-42ab-94df-a507ca8ae8d4",
   "metadata": {
    "tags": []
   },
   "outputs": [],
   "source": [
    "spark = SparkSession.builder.getOrCreate()"
   ]
  },
  {
   "cell_type": "code",
   "execution_count": 12,
   "id": "cd98fca9-ae16-4dcb-b53e-66dbc808f79d",
   "metadata": {},
   "outputs": [],
   "source": [
    "spark.conf.set(\"spark.sql.parquet.enableVectorizedReader\",\"false\")"
   ]
  },
  {
   "cell_type": "code",
   "execution_count": 32,
   "id": "b99d7e46-24d6-4675-a7c1-0eee10bbca5e",
   "metadata": {
    "tags": []
   },
   "outputs": [],
   "source": [
    "yellow_df = spark.read.option('inferSchema',True).parquet('data/raw/yellow/*/*')\n",
    "yellow_df.createOrReplaceTempView(\"yellow_df\")\n",
    "\n",
    "green_df = spark.read.option('inferSchema',True).parquet('data/raw/green/*/*')\n",
    "green_df.createOrReplaceTempView(\"green_df\")"
   ]
  },
  {
   "cell_type": "code",
   "execution_count": 33,
   "id": "6441379c-7708-4b2c-aa6e-bcd21bbd15f9",
   "metadata": {
    "tags": []
   },
   "outputs": [],
   "source": [
    "#Renaming columns of yellow table\n",
    "yellow_df = yellow_df.withColumnRenamed('tpep_pickup_datetime', 'pickup_date_time') \\\n",
    "                     .withColumnRenamed('tpep_dropoff_datetime', 'dropoff_datetime')\n",
    "\n",
    "yellow_df = yellow_df.withColumn('ehail_fee',lit(0))\n",
    "yellow_df = yellow_df.withColumn('trip_type',lit(0))"
   ]
  },
  {
   "cell_type": "code",
   "execution_count": 34,
   "id": "6b3d0908-4af7-48cc-bd7b-d78e1d85d3d8",
   "metadata": {
    "tags": []
   },
   "outputs": [],
   "source": [
    "#Renaming columns of green table\n",
    "green_df = green_df.withColumnRenamed('lpep_pickup_datetime', 'pickup_date_time') \\\n",
    "                     .withColumnRenamed('lpep_dropoff_datetime', 'dropoff_datetime')\n",
    "\n",
    "green_df = green_df.withColumn('airport_fee',lit(0))"
   ]
  },
  {
   "cell_type": "code",
   "execution_count": 35,
   "id": "3b7fc533-6169-435e-bdd4-408fa41da9a1",
   "metadata": {},
   "outputs": [],
   "source": [
    "#Merge yellow e green dataset\n",
    "final_df = yellow_df.unionByName(green_df)"
   ]
  },
  {
   "cell_type": "code",
   "execution_count": null,
   "id": "215dd360-24df-4bf8-a3f6-5e43411e0da7",
   "metadata": {},
   "outputs": [],
   "source": []
  }
 ],
 "metadata": {
  "kernelspec": {
   "display_name": "Python 3 (ipykernel)",
   "language": "python",
   "name": "python3"
  },
  "language_info": {
   "codemirror_mode": {
    "name": "ipython",
    "version": 3
   },
   "file_extension": ".py",
   "mimetype": "text/x-python",
   "name": "python",
   "nbconvert_exporter": "python",
   "pygments_lexer": "ipython3",
   "version": "3.11.3"
  }
 },
 "nbformat": 4,
 "nbformat_minor": 5
}
