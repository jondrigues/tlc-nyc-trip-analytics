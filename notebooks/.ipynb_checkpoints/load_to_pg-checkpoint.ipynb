{
 "cells": [
  {
   "cell_type": "code",
   "execution_count": 1,
   "id": "10072e02-91a3-4f50-806c-5fae4dd91c66",
   "metadata": {},
   "outputs": [],
   "source": [
    "from pyspark.sql import SparkSession\n",
    "from pyspark import SparkConf\n",
    "from pyspark.sql.functions import lit\n",
    "from datetime import datetime\n",
    "\n",
    "spark_conf = SparkConf()\n",
    "spark_conf.set(\"spark.executor.memory\", \"4g\")\n",
    "spark_conf.set(\"spark.driver.memory\", \"2g\")\n",
    "spark_conf.set(\"spark.network.timeout\", \"600s\")\n",
    "spark_conf.set(\"spark.executor.instances\", \"4\")\n",
    "spark_conf.set(\"spark.executor.cores\", \"4\")\n",
    "spark_conf.set(\"spark.default.parallelism\", \"6\")\n",
    "spark_conf.set(\"spark.sql.shuffle.partitions\", \"6\")\n",
    "spark_conf.set(\"spark.sql.parquet.enableVectorizedReader\", \"true\")\n",
    "spark_conf.set(\"spark.jars\", \"/tmp/postgresql-42.2.24.jar\")\n",
    "\n",
    "spark = SparkSession.builder.config(\"spark.serializer\", \"org.apache.spark.serializer.KryoSerializer\").config(conf=spark_conf).getOrCreate()"
   ]
  },
  {
   "cell_type": "code",
   "execution_count": 2,
   "id": "e73d1282-272d-45e3-a1bd-252333d146f2",
   "metadata": {},
   "outputs": [],
   "source": [
    "df_2018 = spark.read.parquet(f\"data/curated/trip_data/year=2018/*\")\n",
    "df_2020 = spark.read.parquet(f\"data/curated/trip_data/year=2020/*\")\n",
    "final_df = df_2018.unionByName(df_2020)"
   ]
  },
  {
   "cell_type": "code",
   "execution_count": null,
   "id": "c1893c6d-46dc-42a7-8466-d064f2319c7d",
   "metadata": {},
   "outputs": [],
   "source": [
    "# Confs\n",
    "host = \"pg_analytics\"\n",
    "port = \"5432\"\n",
    "database = \"analytics\"\n",
    "username = \"admin\"\n",
    "password = \"admin\"\n",
    "table = \"trip_data\"\n",
    "\n",
    "\n",
    "final_df.write \\\n",
    "    .format(\"jdbc\") \\\n",
    "    .option(\"url\", f\"jdbc:postgresql://{host}:{port}/{database}\") \\\n",
    "    .option(\"dbtable\", table) \\\n",
    "    .option(\"user\", username) \\\n",
    "    .option(\"password\", password) \\\n",
    "    .option(\"driver\", \"org.postgresql.Driver\") \\\n",
    "    .mode(\"overwrite\") \\\n",
    "    .save()"
   ]
  },
  {
   "cell_type": "code",
   "execution_count": null,
   "id": "b4ea000c-ddf1-4bde-b9d2-f2a04e756003",
   "metadata": {},
   "outputs": [],
   "source": []
  }
 ],
 "metadata": {
  "kernelspec": {
   "display_name": "Python 3 (ipykernel)",
   "language": "python",
   "name": "python3"
  },
  "language_info": {
   "codemirror_mode": {
    "name": "ipython",
    "version": 3
   },
   "file_extension": ".py",
   "mimetype": "text/x-python",
   "name": "python",
   "nbconvert_exporter": "python",
   "pygments_lexer": "ipython3",
   "version": "3.11.3"
  }
 },
 "nbformat": 4,
 "nbformat_minor": 5
}
